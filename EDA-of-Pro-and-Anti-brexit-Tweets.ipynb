{
 "cells": [
  {
   "cell_type": "code",
   "execution_count": 2,
   "id": "765346f1-510b-41e9-b6ca-dfdc0e548387",
   "metadata": {},
   "outputs": [],
   "source": [
    "#library\n",
    "import pandas as pd\n",
    "import numpy as np\n",
    "import matplotlib as plt\n",
    "from wordcloud import WordCloud\n"
   ]
  },
  {
   "cell_type": "code",
   "execution_count": 3,
   "id": "76012960-eaf1-4d80-9802-1562d4f65731",
   "metadata": {},
   "outputs": [
    {
     "data": {
      "text/html": [
       "<div>\n",
       "<style scoped>\n",
       "    .dataframe tbody tr th:only-of-type {\n",
       "        vertical-align: middle;\n",
       "    }\n",
       "\n",
       "    .dataframe tbody tr th {\n",
       "        vertical-align: top;\n",
       "    }\n",
       "\n",
       "    .dataframe thead th {\n",
       "        text-align: right;\n",
       "    }\n",
       "</style>\n",
       "<table border=\"1\" class=\"dataframe\">\n",
       "  <thead>\n",
       "    <tr style=\"text-align: right;\">\n",
       "      <th></th>\n",
       "      <th>Unnamed: 0</th>\n",
       "      <th>Date</th>\n",
       "      <th>Headline</th>\n",
       "      <th>URL</th>\n",
       "      <th>Opening Text</th>\n",
       "      <th>Hit Sentence</th>\n",
       "      <th>Source</th>\n",
       "      <th>Influencer</th>\n",
       "      <th>Country</th>\n",
       "      <th>Subregion</th>\n",
       "      <th>...</th>\n",
       "      <th>Twitter Screen Name</th>\n",
       "      <th>User Profile Url</th>\n",
       "      <th>Twitter Bio</th>\n",
       "      <th>Twitter Followers</th>\n",
       "      <th>Twitter Following</th>\n",
       "      <th>Alternate Date Format</th>\n",
       "      <th>Time</th>\n",
       "      <th>State</th>\n",
       "      <th>City</th>\n",
       "      <th>Document Tags</th>\n",
       "    </tr>\n",
       "  </thead>\n",
       "  <tbody>\n",
       "    <tr>\n",
       "      <th>0</th>\n",
       "      <td>0</td>\n",
       "      <td>09-Jan-2022 11:58PM</td>\n",
       "      <td>NaN</td>\n",
       "      <td>https://twitter.com/nickynicky77551/statuses/1...</td>\n",
       "      <td>NaN</td>\n",
       "      <td>RT @cnapan: #JohnsonOut is now running at 218,...</td>\n",
       "      <td>Twitter</td>\n",
       "      <td>@nickynicky77551</td>\n",
       "      <td>Unknown</td>\n",
       "      <td>NaN</td>\n",
       "      <td>...</td>\n",
       "      <td>nicky@nicky7755</td>\n",
       "      <td>https://twitter.com/nickynicky77551</td>\n",
       "      <td>Ardent Remainer; Rejoiner now, Support NHS 💙 #...</td>\n",
       "      <td>1697.0</td>\n",
       "      <td>2576.0</td>\n",
       "      <td>Jan 9, 2022</td>\n",
       "      <td>11:58 PM</td>\n",
       "      <td>NaN</td>\n",
       "      <td>NaN</td>\n",
       "      <td>NaN</td>\n",
       "    </tr>\n",
       "    <tr>\n",
       "      <th>1</th>\n",
       "      <td>1</td>\n",
       "      <td>09-Jan-2022 11:58PM</td>\n",
       "      <td>NaN</td>\n",
       "      <td>https://twitter.com/lines12345/statuses/148032...</td>\n",
       "      <td>NaN</td>\n",
       "      <td>RT @Femi_Sorry: My point: Any Labour leader wh...</td>\n",
       "      <td>Twitter</td>\n",
       "      <td>@lines12345</td>\n",
       "      <td>Unknown</td>\n",
       "      <td>NaN</td>\n",
       "      <td>...</td>\n",
       "      <td>Helen</td>\n",
       "      <td>https://twitter.com/lines12345</td>\n",
       "      <td>Tory hating Remainer</td>\n",
       "      <td>11.0</td>\n",
       "      <td>92.0</td>\n",
       "      <td>Jan 9, 2022</td>\n",
       "      <td>11:58 PM</td>\n",
       "      <td>NaN</td>\n",
       "      <td>NaN</td>\n",
       "      <td>NaN</td>\n",
       "    </tr>\n",
       "    <tr>\n",
       "      <th>2</th>\n",
       "      <td>2</td>\n",
       "      <td>09-Jan-2022 11:58PM</td>\n",
       "      <td>NaN</td>\n",
       "      <td>https://twitter.com/millymoo97/statuses/148032...</td>\n",
       "      <td>NaN</td>\n",
       "      <td>RT @andy_murray: QT @Nigel_Farage: Please reco...</td>\n",
       "      <td>Twitter</td>\n",
       "      <td>@millymoo97</td>\n",
       "      <td>Unknown</td>\n",
       "      <td>NaN</td>\n",
       "      <td>...</td>\n",
       "      <td>seonaid mcgill</td>\n",
       "      <td>https://twitter.com/millymoo97</td>\n",
       "      <td>Scottish, European, anti-Brexit, pro-EU, freel...</td>\n",
       "      <td>2129.0</td>\n",
       "      <td>3880.0</td>\n",
       "      <td>Jan 9, 2022</td>\n",
       "      <td>11:58 PM</td>\n",
       "      <td>NaN</td>\n",
       "      <td>NaN</td>\n",
       "      <td>NaN</td>\n",
       "    </tr>\n",
       "    <tr>\n",
       "      <th>3</th>\n",
       "      <td>3</td>\n",
       "      <td>09-Jan-2022 11:58PM</td>\n",
       "      <td>NaN</td>\n",
       "      <td>https://twitter.com/ValueSurplus/statuses/1480...</td>\n",
       "      <td>NaN</td>\n",
       "      <td>RT @mikegalsworthy: We’re the first country in...</td>\n",
       "      <td>Twitter</td>\n",
       "      <td>@valuesurplus</td>\n",
       "      <td>United Kingdom</td>\n",
       "      <td>NaN</td>\n",
       "      <td>...</td>\n",
       "      <td>Rightwing politics is a social virus #BLM 🇵🇸🌈</td>\n",
       "      <td>https://twitter.com/ValueSurplus</td>\n",
       "      <td>Classical Cultural Marxist.\\nAnti Brexit estab...</td>\n",
       "      <td>2420.0</td>\n",
       "      <td>4952.0</td>\n",
       "      <td>Jan 9, 2022</td>\n",
       "      <td>11:58 PM</td>\n",
       "      <td>NaN</td>\n",
       "      <td>NaN</td>\n",
       "      <td>NaN</td>\n",
       "    </tr>\n",
       "    <tr>\n",
       "      <th>4</th>\n",
       "      <td>4</td>\n",
       "      <td>09-Jan-2022 11:57PM</td>\n",
       "      <td>NaN</td>\n",
       "      <td>https://twitter.com/Jackcdawes/statuses/148032...</td>\n",
       "      <td>NaN</td>\n",
       "      <td>RT @StevePeers: QT @andy_murray: Game, set and...</td>\n",
       "      <td>Twitter</td>\n",
       "      <td>@jackcdawes</td>\n",
       "      <td>United Kingdom</td>\n",
       "      <td>NaN</td>\n",
       "      <td>...</td>\n",
       "      <td>Jack Dawes #FBPEGlobal #JohnsonOut #RejoinEU</td>\n",
       "      <td>https://twitter.com/Jackcdawes</td>\n",
       "      <td>Lover of crime &amp; horror fiction, history, &amp; Me...</td>\n",
       "      <td>18304.0</td>\n",
       "      <td>19889.0</td>\n",
       "      <td>Jan 9, 2022</td>\n",
       "      <td>11:57 PM</td>\n",
       "      <td>England</td>\n",
       "      <td>London</td>\n",
       "      <td>NaN</td>\n",
       "    </tr>\n",
       "  </tbody>\n",
       "</table>\n",
       "<p>5 rows × 38 columns</p>\n",
       "</div>"
      ],
      "text/plain": [
       "   Unnamed: 0                 Date  Headline  \\\n",
       "0           0  09-Jan-2022 11:58PM       NaN   \n",
       "1           1  09-Jan-2022 11:58PM       NaN   \n",
       "2           2  09-Jan-2022 11:58PM       NaN   \n",
       "3           3  09-Jan-2022 11:58PM       NaN   \n",
       "4           4  09-Jan-2022 11:57PM       NaN   \n",
       "\n",
       "                                                 URL  Opening Text  \\\n",
       "0  https://twitter.com/nickynicky77551/statuses/1...           NaN   \n",
       "1  https://twitter.com/lines12345/statuses/148032...           NaN   \n",
       "2  https://twitter.com/millymoo97/statuses/148032...           NaN   \n",
       "3  https://twitter.com/ValueSurplus/statuses/1480...           NaN   \n",
       "4  https://twitter.com/Jackcdawes/statuses/148032...           NaN   \n",
       "\n",
       "                                        Hit Sentence   Source  \\\n",
       "0  RT @cnapan: #JohnsonOut is now running at 218,...  Twitter   \n",
       "1  RT @Femi_Sorry: My point: Any Labour leader wh...  Twitter   \n",
       "2  RT @andy_murray: QT @Nigel_Farage: Please reco...  Twitter   \n",
       "3  RT @mikegalsworthy: We’re the first country in...  Twitter   \n",
       "4  RT @StevePeers: QT @andy_murray: Game, set and...  Twitter   \n",
       "\n",
       "         Influencer         Country  Subregion  ...  \\\n",
       "0  @nickynicky77551         Unknown        NaN  ...   \n",
       "1       @lines12345         Unknown        NaN  ...   \n",
       "2       @millymoo97         Unknown        NaN  ...   \n",
       "3     @valuesurplus  United Kingdom        NaN  ...   \n",
       "4       @jackcdawes  United Kingdom        NaN  ...   \n",
       "\n",
       "                             Twitter Screen Name  \\\n",
       "0                                nicky@nicky7755   \n",
       "1                                          Helen   \n",
       "2                                 seonaid mcgill   \n",
       "3  Rightwing politics is a social virus #BLM 🇵🇸🌈   \n",
       "4   Jack Dawes #FBPEGlobal #JohnsonOut #RejoinEU   \n",
       "\n",
       "                      User Profile Url  \\\n",
       "0  https://twitter.com/nickynicky77551   \n",
       "1       https://twitter.com/lines12345   \n",
       "2       https://twitter.com/millymoo97   \n",
       "3     https://twitter.com/ValueSurplus   \n",
       "4       https://twitter.com/Jackcdawes   \n",
       "\n",
       "                                         Twitter Bio  Twitter Followers  \\\n",
       "0  Ardent Remainer; Rejoiner now, Support NHS 💙 #...             1697.0   \n",
       "1                               Tory hating Remainer               11.0   \n",
       "2  Scottish, European, anti-Brexit, pro-EU, freel...             2129.0   \n",
       "3  Classical Cultural Marxist.\\nAnti Brexit estab...             2420.0   \n",
       "4  Lover of crime & horror fiction, history, & Me...            18304.0   \n",
       "\n",
       "   Twitter Following  Alternate Date Format      Time    State    City  \\\n",
       "0             2576.0            Jan 9, 2022  11:58 PM      NaN     NaN   \n",
       "1               92.0            Jan 9, 2022  11:58 PM      NaN     NaN   \n",
       "2             3880.0            Jan 9, 2022  11:58 PM      NaN     NaN   \n",
       "3             4952.0            Jan 9, 2022  11:58 PM      NaN     NaN   \n",
       "4            19889.0            Jan 9, 2022  11:57 PM  England  London   \n",
       "\n",
       "   Document Tags  \n",
       "0            NaN  \n",
       "1            NaN  \n",
       "2            NaN  \n",
       "3            NaN  \n",
       "4            NaN  \n",
       "\n",
       "[5 rows x 38 columns]"
      ]
     },
     "execution_count": 3,
     "metadata": {},
     "output_type": "execute_result"
    }
   ],
   "source": [
    "AntiBrexit = pd.read_csv('senti/TweetDataset_AntiBrexit_Jan-Mar2022.csv')\n",
    "AntiBrexit.head()"
   ]
  },
  {
   "cell_type": "code",
   "execution_count": 4,
   "id": "f7494735-f92b-4444-9506-edbfa6e960d5",
   "metadata": {},
   "outputs": [
    {
     "name": "stdout",
     "output_type": "stream",
     "text": [
      "Column names: Index(['Unnamed: 0', 'Date', 'Headline', 'URL', 'Opening Text', 'Hit Sentence',\n",
      "       'Source', 'Influencer', 'Country', 'Subregion', 'Language', 'Reach',\n",
      "       'Desktop Reach', 'Mobile Reach', 'Twitter Social Echo',\n",
      "       'Facebook Social Echo', 'Reddit Social Echo', 'National Viewership',\n",
      "       'Engagement', 'AVE', 'Sentiment', 'Key Phrases', 'Input Name',\n",
      "       'Keywords', 'Twitter Authority', 'Tweet Id', 'Twitter Id',\n",
      "       'Twitter Client', 'Twitter Screen Name', 'User Profile Url',\n",
      "       'Twitter Bio', 'Twitter Followers', 'Twitter Following',\n",
      "       'Alternate Date Format', 'Time', 'State', 'City', 'Document Tags'],\n",
      "      dtype='object')\n"
     ]
    }
   ],
   "source": [
    "columns = AntiBrexit.columns\n",
    "print(\"Column names:\", columns)"
   ]
  },
  {
   "cell_type": "code",
   "execution_count": 5,
   "id": "56b5f718-8ff0-447e-8e0e-970352fb84e2",
   "metadata": {},
   "outputs": [
    {
     "name": "stdout",
     "output_type": "stream",
     "text": [
      "Unique values in column: ['Neutral' 'Negative' 'Positive' 'Not Rated']\n"
     ]
    }
   ],
   "source": [
    "unique_values = AntiBrexit['Sentiment'].unique()\n",
    "print(\"Unique values in column:\", unique_values)"
   ]
  },
  {
   "cell_type": "code",
   "execution_count": 6,
   "id": "47b1c476-5966-4d1c-96a4-d8d286a55f2b",
   "metadata": {},
   "outputs": [
    {
     "name": "stdout",
     "output_type": "stream",
     "text": [
      "Unique values in column: [nan 'England' 'Washington' 'Virginia' 'Illinois' 'Scotland' 'Nebraska'\n",
      " 'West' 'Ontario' 'New York' 'Normandy' 'Wales' 'Grand Est' 'East'\n",
      " 'Valencia' 'Irkutsk Oblast' 'Georgia' 'Midlands' 'Massachusetts'\n",
      " 'West Pomerania' 'Auvergne-Rhône-Alpes' 'Wisconsin' 'Crete' 'Phetchaburi'\n",
      " 'New Jersey' 'Latium' 'North' 'Maryland' 'Michigan' 'Pennsylvania'\n",
      " 'Alberta' 'Connecticut' 'British Columbia' 'Østfold' 'Indiana'\n",
      " 'New South Wales' 'Nouvelle-Aquitaine' 'Texas' 'Bucureşti' 'Geneva'\n",
      " 'California' 'Leinster' 'Île-de-France' 'Zug' 'Bavaria' 'North Holland'\n",
      " 'North Carolina' 'Guangdong' 'Utrecht' 'Ohio' 'Northern' 'Canterbury'\n",
      " 'Victoria' 'Goa' 'Northern Ireland' 'Labe' 'Western Australia' 'Alabama'\n",
      " 'Hlavní město Praha' 'Cluj' 'Minnesota' 'South' 'Rhode Island' 'Missouri'\n",
      " 'Kingston' 'Central Finland' \"Provence-Alpes-Côte d'Azur\" 'Flanders'\n",
      " 'Tlaxcala' 'Hanoi' 'Rheinland-Pfalz' 'Rabat-Salé-Kénitra' 'Berlin'\n",
      " 'Brittany' 'Munster' 'Istanbul' 'Thuringia' 'Occitanie' 'Emilia-Romagna'\n",
      " 'Valle del Cauca' 'Arkansas' 'Vaud' 'Florida' 'Andalusia' 'St. James'\n",
      " 'Brussels Capital' 'Murcia' 'Catalonia' 'Eastern Cape' 'Louisiana'\n",
      " 'Attica' 'Budapest' 'North Dakota' 'Oslo' 'South-East' 'Umbria'\n",
      " 'Sardinia' 'West Coast' 'Sonora' 'Lubusz' 'Capital Region'\n",
      " 'Himachal Pradesh' 'Sicily' 'The Marches' 'Sucre' 'Ionian Islands'\n",
      " 'Colorado' 'Uttar Pradesh' 'Taranaki' 'South Australia' 'Centre'\n",
      " 'Nidwalden' 'Islands' 'Washington, D.C.']\n"
     ]
    }
   ],
   "source": [
    "unique_values = AntiBrexit['State'].unique()\n",
    "print(\"Unique values in column:\", unique_values)"
   ]
  },
  {
   "cell_type": "code",
   "execution_count": 7,
   "id": "e690f627-48e6-4071-bf96-fd4d501a367d",
   "metadata": {},
   "outputs": [
    {
     "name": "stdout",
     "output_type": "stream",
     "text": [
      "Total row count: 210574\n"
     ]
    }
   ],
   "source": [
    "row_count = len(AntiBrexit)\n",
    "print(\"Total row count:\", row_count)"
   ]
  },
  {
   "cell_type": "markdown",
   "id": "3e5b8c71-bf2d-489d-a7fa-2acb7986abb7",
   "metadata": {},
   "source": [
    "<h1>ProBrexit</h1>"
   ]
  },
  {
   "cell_type": "code",
   "execution_count": 8,
   "id": "2186fd86-5163-4c38-a6c4-f851154293fe",
   "metadata": {},
   "outputs": [
    {
     "data": {
      "text/html": [
       "<div>\n",
       "<style scoped>\n",
       "    .dataframe tbody tr th:only-of-type {\n",
       "        vertical-align: middle;\n",
       "    }\n",
       "\n",
       "    .dataframe tbody tr th {\n",
       "        vertical-align: top;\n",
       "    }\n",
       "\n",
       "    .dataframe thead th {\n",
       "        text-align: right;\n",
       "    }\n",
       "</style>\n",
       "<table border=\"1\" class=\"dataframe\">\n",
       "  <thead>\n",
       "    <tr style=\"text-align: right;\">\n",
       "      <th></th>\n",
       "      <th>Unnamed: 0</th>\n",
       "      <th>Date</th>\n",
       "      <th>Headline</th>\n",
       "      <th>URL</th>\n",
       "      <th>Opening Text</th>\n",
       "      <th>Hit Sentence</th>\n",
       "      <th>Source</th>\n",
       "      <th>Influencer</th>\n",
       "      <th>Country</th>\n",
       "      <th>Subregion</th>\n",
       "      <th>...</th>\n",
       "      <th>Twitter Screen Name</th>\n",
       "      <th>User Profile Url</th>\n",
       "      <th>Twitter Bio</th>\n",
       "      <th>Twitter Followers</th>\n",
       "      <th>Twitter Following</th>\n",
       "      <th>Alternate Date Format</th>\n",
       "      <th>Time</th>\n",
       "      <th>State</th>\n",
       "      <th>City</th>\n",
       "      <th>Document Tags</th>\n",
       "    </tr>\n",
       "  </thead>\n",
       "  <tbody>\n",
       "    <tr>\n",
       "      <th>0</th>\n",
       "      <td>0</td>\n",
       "      <td>15-Jan-2022 11:58PM</td>\n",
       "      <td>NaN</td>\n",
       "      <td>https://twitter.com/dianemcgregor8/statuses/14...</td>\n",
       "      <td>NaN</td>\n",
       "      <td>RT @re11ddy: QT @sandieshoes: Do this if you v...</td>\n",
       "      <td>Twitter</td>\n",
       "      <td>@dianemcgregor8</td>\n",
       "      <td>Cameroon</td>\n",
       "      <td>NaN</td>\n",
       "      <td>...</td>\n",
       "      <td>Diane M McGregor</td>\n",
       "      <td>https://twitter.com/dianemcgregor8</td>\n",
       "      <td>Veggie burger! Lover of all Animals and Nature...</td>\n",
       "      <td>122.0</td>\n",
       "      <td>185.0</td>\n",
       "      <td>Jan 15, 2022</td>\n",
       "      <td>11:58 PM</td>\n",
       "      <td>North</td>\n",
       "      <td>NaN</td>\n",
       "      <td>NaN</td>\n",
       "    </tr>\n",
       "    <tr>\n",
       "      <th>1</th>\n",
       "      <td>1</td>\n",
       "      <td>15-Jan-2022 11:57PM</td>\n",
       "      <td>NaN</td>\n",
       "      <td>http://twitter.com/DeniseMembery/statuses/1482...</td>\n",
       "      <td>NaN</td>\n",
       "      <td>RT @RickSacrop: Michael Fabricant is absolutel...</td>\n",
       "      <td>Twitter</td>\n",
       "      <td>@DeniseMembery</td>\n",
       "      <td>United Kingdom</td>\n",
       "      <td>NaN</td>\n",
       "      <td>...</td>\n",
       "      <td>Denise M.</td>\n",
       "      <td>http://www.twitter.com/DeniseMembery</td>\n",
       "      <td>🇬🇧✡️ Proud to be British. 🇬🇧   Animal lover, m...</td>\n",
       "      <td>5721.0</td>\n",
       "      <td>6291.0</td>\n",
       "      <td>Jan 15, 2022</td>\n",
       "      <td>11:57 PM</td>\n",
       "      <td>England</td>\n",
       "      <td>NaN</td>\n",
       "      <td>NaN</td>\n",
       "    </tr>\n",
       "    <tr>\n",
       "      <th>2</th>\n",
       "      <td>2</td>\n",
       "      <td>15-Jan-2022 11:56PM</td>\n",
       "      <td>NaN</td>\n",
       "      <td>https://twitter.com/007Stirling/statuses/14825...</td>\n",
       "      <td>NaN</td>\n",
       "      <td>@StokieDrew2 I do find it rich; that Tory vote...</td>\n",
       "      <td>Twitter</td>\n",
       "      <td>@007stirling</td>\n",
       "      <td>United Kingdom</td>\n",
       "      <td>NaN</td>\n",
       "      <td>...</td>\n",
       "      <td>Finlay Stirling 🇬🇧☘️❤️🏴󠁧󠁢󠁳󠁣󠁴󠁿</td>\n",
       "      <td>https://twitter.com/007Stirling</td>\n",
       "      <td>BRITISH/IRISH/ULSTER-SCOTS PUL\\nRIGHT-WING. \\n...</td>\n",
       "      <td>7219.0</td>\n",
       "      <td>7433.0</td>\n",
       "      <td>Jan 15, 2022</td>\n",
       "      <td>11:56 PM</td>\n",
       "      <td>Northern Ireland</td>\n",
       "      <td>Belfast</td>\n",
       "      <td>NaN</td>\n",
       "    </tr>\n",
       "    <tr>\n",
       "      <th>3</th>\n",
       "      <td>3</td>\n",
       "      <td>15-Jan-2022 11:54PM</td>\n",
       "      <td>NaN</td>\n",
       "      <td>https://twitter.com/UKleadstheworld/statuses/1...</td>\n",
       "      <td>NaN</td>\n",
       "      <td>RT @denistmurray: Brexit Britain win as London...</td>\n",
       "      <td>Twitter</td>\n",
       "      <td>@ukleadstheworld</td>\n",
       "      <td>United Kingdom</td>\n",
       "      <td>NaN</td>\n",
       "      <td>...</td>\n",
       "      <td>BestofBritish</td>\n",
       "      <td>https://twitter.com/UKleadstheworld</td>\n",
       "      <td>GB News, Conservatives, Brexiteer, Block all ads.</td>\n",
       "      <td>700.0</td>\n",
       "      <td>1014.0</td>\n",
       "      <td>Jan 15, 2022</td>\n",
       "      <td>11:54 PM</td>\n",
       "      <td>NaN</td>\n",
       "      <td>NaN</td>\n",
       "      <td>NaN</td>\n",
       "    </tr>\n",
       "    <tr>\n",
       "      <th>4</th>\n",
       "      <td>4</td>\n",
       "      <td>15-Jan-2022 11:53PM</td>\n",
       "      <td>NaN</td>\n",
       "      <td>https://twitter.com/paul_beamish/statuses/1482...</td>\n",
       "      <td>NaN</td>\n",
       "      <td>@afneil If Johnson is taken down by The Tories...</td>\n",
       "      <td>Twitter</td>\n",
       "      <td>@paul_beamish</td>\n",
       "      <td>United Kingdom</td>\n",
       "      <td>NaN</td>\n",
       "      <td>...</td>\n",
       "      <td>Paul Beamish</td>\n",
       "      <td>https://twitter.com/paul_beamish</td>\n",
       "      <td>Brexiteer and Shipbuilder (Plater/Welder) livi...</td>\n",
       "      <td>200.0</td>\n",
       "      <td>822.0</td>\n",
       "      <td>Jan 15, 2022</td>\n",
       "      <td>11:53 PM</td>\n",
       "      <td>England</td>\n",
       "      <td>NaN</td>\n",
       "      <td>NaN</td>\n",
       "    </tr>\n",
       "  </tbody>\n",
       "</table>\n",
       "<p>5 rows × 38 columns</p>\n",
       "</div>"
      ],
      "text/plain": [
       "   Unnamed: 0                 Date  Headline  \\\n",
       "0           0  15-Jan-2022 11:58PM       NaN   \n",
       "1           1  15-Jan-2022 11:57PM       NaN   \n",
       "2           2  15-Jan-2022 11:56PM       NaN   \n",
       "3           3  15-Jan-2022 11:54PM       NaN   \n",
       "4           4  15-Jan-2022 11:53PM       NaN   \n",
       "\n",
       "                                                 URL  Opening Text  \\\n",
       "0  https://twitter.com/dianemcgregor8/statuses/14...           NaN   \n",
       "1  http://twitter.com/DeniseMembery/statuses/1482...           NaN   \n",
       "2  https://twitter.com/007Stirling/statuses/14825...           NaN   \n",
       "3  https://twitter.com/UKleadstheworld/statuses/1...           NaN   \n",
       "4  https://twitter.com/paul_beamish/statuses/1482...           NaN   \n",
       "\n",
       "                                        Hit Sentence   Source  \\\n",
       "0  RT @re11ddy: QT @sandieshoes: Do this if you v...  Twitter   \n",
       "1  RT @RickSacrop: Michael Fabricant is absolutel...  Twitter   \n",
       "2  @StokieDrew2 I do find it rich; that Tory vote...  Twitter   \n",
       "3  RT @denistmurray: Brexit Britain win as London...  Twitter   \n",
       "4  @afneil If Johnson is taken down by The Tories...  Twitter   \n",
       "\n",
       "         Influencer         Country  Subregion  ...  \\\n",
       "0   @dianemcgregor8        Cameroon        NaN  ...   \n",
       "1    @DeniseMembery  United Kingdom        NaN  ...   \n",
       "2      @007stirling  United Kingdom        NaN  ...   \n",
       "3  @ukleadstheworld  United Kingdom        NaN  ...   \n",
       "4     @paul_beamish  United Kingdom        NaN  ...   \n",
       "\n",
       "             Twitter Screen Name                      User Profile Url  \\\n",
       "0               Diane M McGregor    https://twitter.com/dianemcgregor8   \n",
       "1                      Denise M.  http://www.twitter.com/DeniseMembery   \n",
       "2  Finlay Stirling 🇬🇧☘️❤️🏴󠁧󠁢󠁳󠁣󠁴󠁿       https://twitter.com/007Stirling   \n",
       "3                  BestofBritish   https://twitter.com/UKleadstheworld   \n",
       "4                   Paul Beamish      https://twitter.com/paul_beamish   \n",
       "\n",
       "                                         Twitter Bio  Twitter Followers  \\\n",
       "0  Veggie burger! Lover of all Animals and Nature...              122.0   \n",
       "1  🇬🇧✡️ Proud to be British. 🇬🇧   Animal lover, m...             5721.0   \n",
       "2  BRITISH/IRISH/ULSTER-SCOTS PUL\\nRIGHT-WING. \\n...             7219.0   \n",
       "3  GB News, Conservatives, Brexiteer, Block all ads.              700.0   \n",
       "4  Brexiteer and Shipbuilder (Plater/Welder) livi...              200.0   \n",
       "\n",
       "   Twitter Following  Alternate Date Format      Time             State  \\\n",
       "0              185.0           Jan 15, 2022  11:58 PM             North   \n",
       "1             6291.0           Jan 15, 2022  11:57 PM           England   \n",
       "2             7433.0           Jan 15, 2022  11:56 PM  Northern Ireland   \n",
       "3             1014.0           Jan 15, 2022  11:54 PM               NaN   \n",
       "4              822.0           Jan 15, 2022  11:53 PM           England   \n",
       "\n",
       "      City  Document Tags  \n",
       "0      NaN            NaN  \n",
       "1      NaN            NaN  \n",
       "2  Belfast            NaN  \n",
       "3      NaN            NaN  \n",
       "4      NaN            NaN  \n",
       "\n",
       "[5 rows x 38 columns]"
      ]
     },
     "execution_count": 8,
     "metadata": {},
     "output_type": "execute_result"
    }
   ],
   "source": [
    "ProBrexit = pd.read_csv('senti/TweetDataset_ProBrexit_Jan-Mar2022.csv')\n",
    "ProBrexit.head()"
   ]
  },
  {
   "cell_type": "code",
   "execution_count": 9,
   "id": "26c9b3e8-d0dd-4905-a7a2-050c62b832c3",
   "metadata": {},
   "outputs": [
    {
     "name": "stdout",
     "output_type": "stream",
     "text": [
      "Column names: Index(['Unnamed: 0', 'Date', 'Headline', 'URL', 'Opening Text', 'Hit Sentence',\n",
      "       'Source', 'Influencer', 'Country', 'Subregion', 'Language', 'Reach',\n",
      "       'Desktop Reach', 'Mobile Reach', 'Twitter Social Echo',\n",
      "       'Facebook Social Echo', 'Reddit Social Echo', 'National Viewership',\n",
      "       'Engagement', 'AVE', 'Sentiment', 'Key Phrases', 'Input Name',\n",
      "       'Keywords', 'Twitter Authority', 'Tweet Id', 'Twitter Id',\n",
      "       'Twitter Client', 'Twitter Screen Name', 'User Profile Url',\n",
      "       'Twitter Bio', 'Twitter Followers', 'Twitter Following',\n",
      "       'Alternate Date Format', 'Time', 'State', 'City', 'Document Tags'],\n",
      "      dtype='object')\n"
     ]
    }
   ],
   "source": [
    "columns = ProBrexit.columns\n",
    "print(\"Column names:\", columns)"
   ]
  },
  {
   "cell_type": "code",
   "execution_count": 10,
   "id": "ad1bb7a7-030b-4675-99ae-93313c073b22",
   "metadata": {},
   "outputs": [
    {
     "name": "stdout",
     "output_type": "stream",
     "text": [
      "Unique values in column: ['Neutral' 'Negative' 'Positive' 'Not Rated']\n"
     ]
    }
   ],
   "source": [
    "unique_values = ProBrexit['Sentiment'].unique()\n",
    "print(\"Unique values in column:\", unique_values)"
   ]
  },
  {
   "cell_type": "code",
   "execution_count": 11,
   "id": "59ca12fc-fec5-4398-97ff-5a400210597b",
   "metadata": {},
   "outputs": [
    {
     "name": "stdout",
     "output_type": "stream",
     "text": [
      "Unique values in column: ['RT @re11ddy: QT @sandieshoes: Do this if you value Brexit ; Tory MPs are back in their constituencies this weekend. Can you contact them as they contemplate if they should put a letter into the 1922. It would just take a few minutes. Their email details are easily found. Don’t lay down in front of the media. Please act. #BackBoris'\n",
      " \"RT @RickSacrop: Michael Fabricant is absolutely right. How can it be 'dangerous' to expose what is obvious to most people. The MSM and particularly the BBC are hell bent on getting shot of Boris because he removed from us their precious EU. There is no place for revenge propaganda in the UK.\"\n",
      " \"@StokieDrew2 I do find it rich; that Tory voters who I assume are Unionists/Conservatives; are oblivious that a part of i and your United Kingdom has been betrayed by the Johnson leadership; while Boasting that Brexit is done. It's not done until EU have no legitimacy over Northern Ireland. https://t.co/KHrWBrLQhB\"\n",
      " ...\n",
      " 'Ludicrous to suggest Boris is insulting Ukrainians given he’s done more for them & quicker than any other European leader. 2/2'\n",
      " 'RT @DannyInvictus: @timfarron @ThomasEvansAdur @donaldtuskEPP For what it’s worth - Johnson was actually making a passionate defence of freedom, which Ukrainians are fighting for, which the vaccine task force delivered and which Brexit has given the UK. If you were a liberal you’d support that, or are you brainwashed instead?'\n",
      " \"QT @LindaBr07293431: Poor carowhine her bitter unhealthy obsession with the PM is now getting out of hand, she'll be stalking him next I reckon Linda, I wonder if at some point the PM has spurned her & her advances,🤣 Perhaps the deliverance of Brexit finally pushed her over the top🤣😂😅👍 https://t.co/PTkH1bhDdV ; @CarolineLucas Glad you're speechless, Caroline as there is actually nothing to say except to congratulate the PM on a great speech.\"]\n"
     ]
    }
   ],
   "source": [
    "unique_values = ProBrexit['Hit Sentence'].unique()\n",
    "print(\"Unique values in column:\", unique_values)"
   ]
  },
  {
   "cell_type": "code",
   "execution_count": 12,
   "id": "51ab31ed-5890-431c-b105-13a0c58052bb",
   "metadata": {},
   "outputs": [
    {
     "name": "stdout",
     "output_type": "stream",
     "text": [
      "RT @RickSacrop: Michael Fabricant is absolutely right. How can it be 'dangerous' to expose what is obvious to most people. The MSM and particularly the BBC are hell bent on getting shot of Boris because he removed from us their precious EU. There is no place for revenge propaganda in the UK.\n"
     ]
    }
   ],
   "source": [
    "result = ProBrexit.loc[ProBrexit['Sentiment'] == 'Negative', 'Hit Sentence']\n",
    "print(result.iloc[0])\n"
   ]
  },
  {
   "cell_type": "code",
   "execution_count": 13,
   "id": "51edaf17-ca40-4147-9222-de5239c53532",
   "metadata": {},
   "outputs": [
    {
     "name": "stdout",
     "output_type": "stream",
     "text": [
      "RT @denistmurray: Brexit Britain win as London named best city for young businesses https://t.co/SIPIXUNNvv : Excellent for Brexit and the UK Future.\n"
     ]
    }
   ],
   "source": [
    "result = ProBrexit.loc[ProBrexit['Sentiment'] == 'Positive', 'Hit Sentence']\n",
    "print(result.iloc[0])"
   ]
  },
  {
   "cell_type": "code",
   "execution_count": 14,
   "id": "10ceef5b-a8b5-4073-94b9-5efabc104553",
   "metadata": {},
   "outputs": [
    {
     "name": "stdout",
     "output_type": "stream",
     "text": [
      "RT @re11ddy: QT @sandieshoes: Do this if you value Brexit ; Tory MPs are back in their constituencies this weekend. Can you contact them as they contemplate if they should put a letter into the 1922. It would just take a few minutes. Their email details are easily found. Don’t lay down in front of the media. Please act. #BackBoris\n"
     ]
    }
   ],
   "source": [
    "result = ProBrexit.loc[ProBrexit['Sentiment'] == 'Neutral', 'Hit Sentence']\n",
    "print(result.iloc[0])"
   ]
  },
  {
   "cell_type": "code",
   "execution_count": 15,
   "id": "a0b73614-3762-474f-b216-303118501a04",
   "metadata": {},
   "outputs": [
    {
     "data": {
      "text/plain": [
       "0        NaN\n",
       "1        NaN\n",
       "2        NaN\n",
       "3        NaN\n",
       "4        NaN\n",
       "          ..\n",
       "147626   NaN\n",
       "147627   NaN\n",
       "147628   NaN\n",
       "147629   NaN\n",
       "147630   NaN\n",
       "Name: Reddit Social Echo, Length: 147631, dtype: float64"
      ]
     },
     "execution_count": 15,
     "metadata": {},
     "output_type": "execute_result"
    }
   ],
   "source": [
    "ProBrexit['Reddit Social Echo']"
   ]
  },
  {
   "cell_type": "code",
   "execution_count": 16,
   "id": "76fb6668-1718-4d88-b82e-85a039f396d5",
   "metadata": {},
   "outputs": [
    {
     "name": "stdout",
     "output_type": "stream",
     "text": [
      "Total row count: 147631\n"
     ]
    }
   ],
   "source": [
    "row_count = len(ProBrexit)\n",
    "print(\"Total row count:\", row_count)"
   ]
  },
  {
   "cell_type": "code",
   "execution_count": 17,
   "id": "1a762415-b963-4748-a6e1-2239447972b3",
   "metadata": {},
   "outputs": [
    {
     "name": "stdout",
     "output_type": "stream",
     "text": [
      "Null values : 147631\n"
     ]
    }
   ],
   "source": [
    "null_count = ProBrexit['Reddit Social Echo'].isnull().sum()\n",
    "print(\"Null values :\", null_count)"
   ]
  },
  {
   "cell_type": "code",
   "execution_count": 18,
   "id": "04d87f14-b0c0-4663-8cc4-43f5136f0c25",
   "metadata": {},
   "outputs": [
    {
     "name": "stdout",
     "output_type": "stream",
     "text": [
      "Null values : 147631\n"
     ]
    }
   ],
   "source": [
    "null_count = ProBrexit['Facebook Social Echo'].isnull().sum()\n",
    "print(\"Null values :\", null_count)"
   ]
  },
  {
   "cell_type": "code",
   "execution_count": 19,
   "id": "664e03b0-5dda-4923-bc96-7afc9908274a",
   "metadata": {},
   "outputs": [
    {
     "name": "stdout",
     "output_type": "stream",
     "text": [
      "Null values : 20372\n"
     ]
    }
   ],
   "source": [
    "null_count = ProBrexit['Key Phrases'].isnull().sum()\n",
    "print(\"Null values :\", null_count)"
   ]
  },
  {
   "cell_type": "code",
   "execution_count": 20,
   "id": "35c6c5d0-5861-45e5-848f-e89252b3f109",
   "metadata": {},
   "outputs": [
    {
     "name": "stdout",
     "output_type": "stream",
     "text": [
      "Unique values in column: [nan 'hell bent,precious EU' 'Johnson leadership,Tory voters' ...\n",
      " 'Tory party,main man,rough ride,undemocratic EU'\n",
      " 'freedom,passionate defence,support,vaccine task force,worth - Johnson'\n",
      " 'advances,bitter unhealthy obsession,great speech,hand,point,top🤣']\n"
     ]
    }
   ],
   "source": [
    "unique_values = ProBrexit['Key Phrases'].unique()\n",
    "print(\"Unique values in column:\", unique_values)"
   ]
  },
  {
   "cell_type": "code",
   "execution_count": 21,
   "id": "1d8c33d5-9faf-422b-bdf9-721d2c8a9586",
   "metadata": {},
   "outputs": [
    {
     "ename": "TypeError",
     "evalue": "'module' object is not callable",
     "output_type": "error",
     "traceback": [
      "\u001b[1;31m---------------------------------------------------------------------------\u001b[0m",
      "\u001b[1;31mTypeError\u001b[0m                                 Traceback (most recent call last)",
      "Cell \u001b[1;32mIn[21], line 5\u001b[0m\n\u001b[0;32m      1\u001b[0m text \u001b[38;5;241m=\u001b[39m \u001b[38;5;124m'\u001b[39m\u001b[38;5;124m \u001b[39m\u001b[38;5;124m'\u001b[39m\u001b[38;5;241m.\u001b[39mjoin(unique_values[\u001b[38;5;241m1\u001b[39m:])\n\u001b[0;32m      3\u001b[0m wordcloud \u001b[38;5;241m=\u001b[39m WordCloud(width\u001b[38;5;241m=\u001b[39m\u001b[38;5;241m800\u001b[39m, height\u001b[38;5;241m=\u001b[39m\u001b[38;5;241m400\u001b[39m, background_color\u001b[38;5;241m=\u001b[39m\u001b[38;5;124m'\u001b[39m\u001b[38;5;124mwhite\u001b[39m\u001b[38;5;124m'\u001b[39m, colormap\u001b[38;5;241m=\u001b[39m\u001b[38;5;124m'\u001b[39m\u001b[38;5;124mviridis\u001b[39m\u001b[38;5;124m'\u001b[39m)\u001b[38;5;241m.\u001b[39mgenerate(text)\n\u001b[1;32m----> 5\u001b[0m \u001b[43mplt\u001b[49m\u001b[38;5;241;43m.\u001b[39;49m\u001b[43mfigure\u001b[49m\u001b[43m(\u001b[49m\u001b[43mfigsize\u001b[49m\u001b[38;5;241;43m=\u001b[39;49m\u001b[43m(\u001b[49m\u001b[38;5;241;43m10\u001b[39;49m\u001b[43m,\u001b[49m\u001b[43m \u001b[49m\u001b[38;5;241;43m5\u001b[39;49m\u001b[43m)\u001b[49m\u001b[43m)\u001b[49m\n\u001b[0;32m      6\u001b[0m plt\u001b[38;5;241m.\u001b[39mimshow(wordcloud, interpolation\u001b[38;5;241m=\u001b[39m\u001b[38;5;124m\"\u001b[39m\u001b[38;5;124mbilinear\u001b[39m\u001b[38;5;124m\"\u001b[39m)\n\u001b[0;32m      7\u001b[0m plt\u001b[38;5;241m.\u001b[39maxis(\u001b[38;5;124m'\u001b[39m\u001b[38;5;124moff\u001b[39m\u001b[38;5;124m'\u001b[39m)  \u001b[38;5;66;03m# Hide axes\u001b[39;00m\n",
      "\u001b[1;31mTypeError\u001b[0m: 'module' object is not callable"
     ]
    }
   ],
   "source": [
    "text = ' '.join(unique_values[1:])\n",
    "\n",
    "wordcloud = WordCloud(width=800, height=400, background_color='white', colormap='viridis').generate(text)\n",
    "\n",
    "plt.figure(figsize=(10, 5))\n",
    "plt.imshow(wordcloud, interpolation=\"bilinear\")\n",
    "plt.axis('off')  # Hide axes\n",
    "plt.title(\"Word Frequency Map\")\n",
    "plt.show()\n"
   ]
  },
  {
   "cell_type": "code",
   "execution_count": null,
   "id": "64e12609-6ded-4016-88b4-b59e5a69a9bd",
   "metadata": {},
   "outputs": [],
   "source": [
    "null_count = ProBrexit['Language'].isnull().sum()\n",
    "print(\"Null values :\", null_count)"
   ]
  },
  {
   "cell_type": "code",
   "execution_count": null,
   "id": "8d9ffa34-e8e3-4029-aaee-5801f38b733a",
   "metadata": {},
   "outputs": [],
   "source": [
    "unique_values = ProBrexit['Language'].unique()\n",
    "print(\"Unique values in column:\", unique_values)\n",
    "text = ' '.join(unique_values)\n",
    "\n",
    "wordcloud = WordCloud(width=800, height=400, background_color='white', colormap='viridis').generate(text)\n",
    "\n",
    "plt.figure(figsize=(10, 5))\n",
    "plt.imshow(wordcloud, interpolation=\"bilinear\")\n",
    "plt.axis('off')  # Hide axes\n",
    "plt.title(\"Word Frequency Map\")\n",
    "plt.show()\n"
   ]
  },
  {
   "cell_type": "code",
   "execution_count": null,
   "id": "6d2bdd12-18a3-485b-a9fc-4c42f78fd453",
   "metadata": {},
   "outputs": [],
   "source": [
    "null_count = ProBrexit['Document Tags'].isnull().sum()\n",
    "print(\"Null values :\", null_count)"
   ]
  },
  {
   "cell_type": "code",
   "execution_count": 35,
   "id": "9a96edcc-fb33-4b1f-9be9-73bca52afa49",
   "metadata": {},
   "outputs": [
    {
     "name": "stdout",
     "output_type": "stream",
     "text": [
      "Null values : 0\n"
     ]
    }
   ],
   "source": [
    "null_count = ProBrexit['Reach'].isnull().sum()\n",
    "print(\"Null values :\", null_count)"
   ]
  },
  {
   "cell_type": "code",
   "execution_count": 38,
   "id": "f58a4987-e597-49aa-9e85-bac6bf63536d",
   "metadata": {},
   "outputs": [
    {
     "name": "stdout",
     "output_type": "stream",
     "text": [
      "Unique values in column: [  122  5721  7219 ... 14222 10772 23594]\n"
     ]
    }
   ],
   "source": [
    "unique_values = ProBrexit['Reach'].unique()\n",
    "print(\"Unique values in column:\", unique_values)"
   ]
  },
  {
   "cell_type": "code",
   "execution_count": 39,
   "id": "47e79a51-7795-4784-9ff0-d8e2e3360c60",
   "metadata": {},
   "outputs": [
    {
     "name": "stdout",
     "output_type": "stream",
     "text": [
      "Unique values in column: [0]\n"
     ]
    }
   ],
   "source": [
    "unique_values = ProBrexit['National Viewership'].unique()\n",
    "print(\"Unique values in column:\", unique_values)"
   ]
  },
  {
   "cell_type": "code",
   "execution_count": 40,
   "id": "de421487-16cf-45fa-89ed-e66b092ba931",
   "metadata": {},
   "outputs": [
    {
     "name": "stdout",
     "output_type": "stream",
     "text": [
      "Null values : 0\n"
     ]
    }
   ],
   "source": [
    "null_count = ProBrexit['National Viewership'].isnull().sum()\n",
    "print(\"Null values :\", null_count)"
   ]
  },
  {
   "cell_type": "code",
   "execution_count": 41,
   "id": "8752e933-2aea-406a-85d6-e93dc3e5c774",
   "metadata": {},
   "outputs": [
    {
     "data": {
      "text/plain": [
       "0         0\n",
       "1         0\n",
       "2         0\n",
       "3         0\n",
       "4         0\n",
       "         ..\n",
       "147626    0\n",
       "147627    0\n",
       "147628    0\n",
       "147629    0\n",
       "147630    0\n",
       "Name: National Viewership, Length: 147631, dtype: int64"
      ]
     },
     "execution_count": 41,
     "metadata": {},
     "output_type": "execute_result"
    }
   ],
   "source": [
    "ProBrexit['National Viewership']"
   ]
  },
  {
   "cell_type": "code",
   "execution_count": 22,
   "id": "edce8cd7-306c-43a5-b81e-b1fc29b9f951",
   "metadata": {},
   "outputs": [
    {
     "name": "stdout",
     "output_type": "stream",
     "text": [
      "Unique values in column: [ 4.  7.  5.  8.  6.  2.  3.  9. nan  1. 10.]\n"
     ]
    }
   ],
   "source": [
    "unique_values = ProBrexit['Twitter Authority'].unique()\n",
    "print(\"Unique values in column:\", unique_values)"
   ]
  },
  {
   "cell_type": "code",
   "execution_count": 23,
   "id": "b5777441-29e0-4f7a-9744-1ca14faeda5a",
   "metadata": {},
   "outputs": [
    {
     "name": "stdout",
     "output_type": "stream",
     "text": [
      "Unique values in column: ['Veggie burger! Lover of all Animals and Nature ..Keen  Brexiteer.Truth seeker Searching for a Fair and Just World..'\n",
      " '🇬🇧✡️ Proud to be British. 🇬🇧   Animal lover, monarchist & pro-Brexit. Definitely not Woke! #IStandWithIsrael'\n",
      " 'BRITISH/IRISH/ULSTER-SCOTS PUL\\\\nRIGHT-WING. \\\\n✝️👑💂\\u200d♂️☘️✋🏻❤️🇬🇧🏴\\U000e0067\\U000e0062\\U000e0073\\U000e0063\\U000e0074\\U000e007f🏴\\U000e0067\\U000e0062\\U000e0065\\U000e006e\\U000e0067\\U000e007f🏴\\U000e0067\\U000e0062\\U000e0077\\U000e006c\\U000e0073\\U000e007f Brexiteer. Trump 🇺🇸 🦅🇺🇸🇮🇱'\n",
      " ...\n",
      " 'The Arsenal. Love my Country. Love Cornwall Passionate Golfer. Passionate Brexiteer. All views my own. RTs not necessarily endorsement'\n",
      " 'Centrist\\\\nEnglish Liberal Conservative\\\\nPro Brexit\\\\nDepressed about uncontrolled mass immigration\\\\nBan Halal & kosher ASAP\\\\nMan City\\\\nsex god (allegedly)'\n",
      " 'Defender of #Freespeech - Forward thinking #Brexiteer - #FactsTrumpFeelings - Living a #HealthyLifestyle - #AnimalRights - #SOYOTF - RTs NOT ENDORSEMENTS']\n"
     ]
    }
   ],
   "source": [
    "unique_values = ProBrexit['Twitter Bio'].unique()\n",
    "print(\"Unique values in column:\", unique_values)"
   ]
  },
  {
   "cell_type": "code",
   "execution_count": null,
   "id": "56082198-10f5-4e93-ae9c-28496200759e",
   "metadata": {},
   "outputs": [],
   "source": []
  }
 ],
 "metadata": {
  "kernelspec": {
   "display_name": "Python 3 (ipykernel)",
   "language": "python",
   "name": "python3"
  },
  "language_info": {
   "codemirror_mode": {
    "name": "ipython",
    "version": 3
   },
   "file_extension": ".py",
   "mimetype": "text/x-python",
   "name": "python",
   "nbconvert_exporter": "python",
   "pygments_lexer": "ipython3",
   "version": "3.10.16"
  }
 },
 "nbformat": 4,
 "nbformat_minor": 5
}
